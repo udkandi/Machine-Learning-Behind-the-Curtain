{
  "cells": [
    {
      "cell_type": "markdown",
      "metadata": {
        "id": "view-in-github",
        "colab_type": "text"
      },
      "source": [
        "<a href=\"https://colab.research.google.com/github/udkandi/Machine-Learning-Behind-the-Curtain/blob/main/Assignment_1_NumPy.ipynb\" target=\"_parent\"><img src=\"https://colab.research.google.com/assets/colab-badge.svg\" alt=\"Open In Colab\"/></a>"
      ]
    },
    {
      "cell_type": "code",
      "execution_count": null,
      "id": "42f5e68e",
      "metadata": {
        "id": "42f5e68e"
      },
      "outputs": [],
      "source": [
        "import numpy as np"
      ]
    },
    {
      "cell_type": "markdown",
      "id": "2b209b50",
      "metadata": {
        "id": "2b209b50"
      },
      "source": [
        "Q1 Let x = np.arange(4, dtype=np.int64). Create an array of ones with the same shape and type as X."
      ]
    },
    {
      "cell_type": "code",
      "execution_count": null,
      "id": "729dc9cd",
      "metadata": {
        "id": "729dc9cd",
        "colab": {
          "base_uri": "https://localhost:8080/"
        },
        "outputId": "97663f6e-89b4-47f4-9b32-59e45e6d3abc"
      },
      "outputs": [
        {
          "output_type": "stream",
          "name": "stdout",
          "text": [
            "[1 1 1 1]\n"
          ]
        }
      ],
      "source": [
        "x = np.arange(4,dtype=np.int64)\n",
        "y = np.ones_like(x)\n",
        "print(y)"
      ]
    },
    {
      "cell_type": "markdown",
      "id": "1b9ea803",
      "metadata": {
        "id": "1b9ea803"
      },
      "source": [
        "Q2 Let X = np.array([[1, 2], [3, 4]]). Convert it into a matrix."
      ]
    },
    {
      "cell_type": "code",
      "execution_count": null,
      "id": "23e39b64",
      "metadata": {
        "id": "23e39b64",
        "outputId": "77a0249c-6693-4eae-e78d-7f884ef93b08",
        "colab": {
          "base_uri": "https://localhost:8080/"
        }
      },
      "outputs": [
        {
          "output_type": "execute_result",
          "data": {
            "text/plain": [
              "matrix([[1, 2],\n",
              "        [3, 4]])"
            ]
          },
          "metadata": {},
          "execution_count": 73
        }
      ],
      "source": [
        "x = np.array([[1,2],[3,4]])\n",
        "t = np.asmatrix(x)\n",
        "t"
      ]
    },
    {
      "cell_type": "markdown",
      "id": "4c1fc004",
      "metadata": {
        "id": "4c1fc004"
      },
      "source": [
        "Q3 Create a 1-D array of 50 evenly spaced elements between 3. and 10., inclusive."
      ]
    },
    {
      "cell_type": "code",
      "execution_count": null,
      "id": "9f0a47db",
      "metadata": {
        "id": "9f0a47db",
        "colab": {
          "base_uri": "https://localhost:8080/"
        },
        "outputId": "a7d9b030-bcc0-4dfb-f84b-c8370ebab70b"
      },
      "outputs": [
        {
          "output_type": "stream",
          "name": "stdout",
          "text": [
            "[ 3.          3.14285714  3.28571429  3.42857143  3.57142857  3.71428571\n",
            "  3.85714286  4.          4.14285714  4.28571429  4.42857143  4.57142857\n",
            "  4.71428571  4.85714286  5.          5.14285714  5.28571429  5.42857143\n",
            "  5.57142857  5.71428571  5.85714286  6.          6.14285714  6.28571429\n",
            "  6.42857143  6.57142857  6.71428571  6.85714286  7.          7.14285714\n",
            "  7.28571429  7.42857143  7.57142857  7.71428571  7.85714286  8.\n",
            "  8.14285714  8.28571429  8.42857143  8.57142857  8.71428571  8.85714286\n",
            "  9.          9.14285714  9.28571429  9.42857143  9.57142857  9.71428571\n",
            "  9.85714286 10.        ]\n"
          ]
        }
      ],
      "source": [
        "x = np.linspace(3.0,10.0,50)\n",
        "print(x)"
      ]
    },
    {
      "cell_type": "markdown",
      "id": "0289d659",
      "metadata": {
        "id": "0289d659"
      },
      "source": [
        "Q4 Let x be array [[1, 2, 3], [4, 5, 6]]. Convert it to [1 4 2 5 3 6]."
      ]
    },
    {
      "cell_type": "code",
      "execution_count": null,
      "id": "f8435bca",
      "metadata": {
        "id": "f8435bca",
        "colab": {
          "base_uri": "https://localhost:8080/"
        },
        "outputId": "103e62b6-9351-4fef-d76f-b7b3e17148eb"
      },
      "outputs": [
        {
          "output_type": "execute_result",
          "data": {
            "text/plain": [
              "array([1, 4, 2, 5, 3, 6])"
            ]
          },
          "metadata": {},
          "execution_count": 75
        }
      ],
      "source": [
        "x = np.array([[1,2,3],[4,5,6]])\n",
        "z = np.transpose(x)\n",
        "y = z.ravel()\n",
        "y"
      ]
    },
    {
      "cell_type": "markdown",
      "id": "71988acd",
      "metadata": {
        "id": "71988acd"
      },
      "source": [
        "Q5 Let x be an array [1, 2, 3, ..., 9]. Split x into 3 arrays, each of which has 4, 2, and 3 elements in the original order."
      ]
    },
    {
      "cell_type": "code",
      "execution_count": null,
      "id": "9425a232",
      "metadata": {
        "id": "9425a232",
        "colab": {
          "base_uri": "https://localhost:8080/"
        },
        "outputId": "1f9e5445-82c1-4668-a2d3-413f8099b93e"
      },
      "outputs": [
        {
          "output_type": "execute_result",
          "data": {
            "text/plain": [
              "[array([1, 2, 3, 4]), array([5, 6]), array([7, 8, 9]), array([], dtype=int64)]"
            ]
          },
          "metadata": {},
          "execution_count": 76
        }
      ],
      "source": [
        "x = np.array([1,2,3,4,5,6,7,8,9])\n",
        "np.split(x,[4,6,9])\n"
      ]
    },
    {
      "cell_type": "markdown",
      "id": "6aecae8c",
      "metadata": {
        "id": "6aecae8c"
      },
      "source": [
        " Q6 Compute the inverse and primary diagnol sum of x=[[1,2],[3,4]]"
      ]
    },
    {
      "cell_type": "code",
      "execution_count": null,
      "id": "3d79a142",
      "metadata": {
        "id": "3d79a142",
        "colab": {
          "base_uri": "https://localhost:8080/"
        },
        "outputId": "e7e2b626-a2d1-4c98-8070-75e9e8b902a4"
      },
      "outputs": [
        {
          "output_type": "stream",
          "name": "stdout",
          "text": [
            "[[-2.   1. ]\n",
            " [ 1.5 -0.5]]\n",
            "5\n"
          ]
        }
      ],
      "source": [
        "x = np.array([[1,2],[3,4]])\n",
        "y = np.linalg.inv(x)\n",
        "print(y)\n",
        "t = np.trace(x)\n",
        "print(t)"
      ]
    },
    {
      "cell_type": "markdown",
      "id": "9f088694",
      "metadata": {
        "id": "9f088694"
      },
      "source": [
        "Q7 Sort x along the second axis. x = [[1,4],[3,1]]"
      ]
    },
    {
      "cell_type": "code",
      "execution_count": null,
      "id": "40099735",
      "metadata": {
        "id": "40099735",
        "colab": {
          "base_uri": "https://localhost:8080/"
        },
        "outputId": "f8fe59ff-ef5d-41a1-a0f5-549a8622279a"
      },
      "outputs": [
        {
          "output_type": "execute_result",
          "data": {
            "text/plain": [
              "array([[1, 4],\n",
              "       [1, 3]])"
            ]
          },
          "metadata": {},
          "execution_count": 78
        }
      ],
      "source": [
        "x = np.array([[1,4],[3,1]])\n",
        "np.sort(x,axis=1)"
      ]
    },
    {
      "cell_type": "markdown",
      "id": "51cc1a71",
      "metadata": {
        "id": "51cc1a71"
      },
      "source": [
        "Q8 Get the indices that would sort x(as above) along the second axis."
      ]
    },
    {
      "cell_type": "code",
      "execution_count": null,
      "id": "f314f2b6",
      "metadata": {
        "id": "f314f2b6",
        "colab": {
          "base_uri": "https://localhost:8080/"
        },
        "outputId": "176f94d2-78c5-49ef-cc9b-19cbe4991a5f"
      },
      "outputs": [
        {
          "output_type": "execute_result",
          "data": {
            "text/plain": [
              "array([[0, 1],\n",
              "       [1, 0]])"
            ]
          },
          "metadata": {},
          "execution_count": 79
        }
      ],
      "source": [
        "x = np.array([[1,4],[3,1]])\n",
        "np.argsort(x)"
      ]
    },
    {
      "cell_type": "markdown",
      "id": "1cf5455c",
      "metadata": {
        "id": "1cf5455c"
      },
      "source": [
        "Initiate x as a 2x5 array with random values from 0 to 10(not inclusive).Get the maximum and minimum values and their indices of x along the second axis."
      ]
    },
    {
      "cell_type": "code",
      "execution_count": null,
      "id": "4c9518c5",
      "metadata": {
        "id": "4c9518c5",
        "colab": {
          "base_uri": "https://localhost:8080/"
        },
        "outputId": "6a405367-d8ab-4d49-937b-82930de0860e"
      },
      "outputs": [
        {
          "output_type": "stream",
          "name": "stdout",
          "text": [
            "[[5 1 3 4 3]\n",
            " [4 7 1 2 4]]\n",
            "7\n",
            "1\n",
            "[0 1]\n",
            "[1 2]\n"
          ]
        }
      ],
      "source": [
        "x = np.random.randint(0,10,(2,5))\n",
        "print(x)\n",
        "print(np.max(x))\n",
        "print(np.min(x))\n",
        "print(np.argmax(x,axis=1))\n",
        "print(np.argmin(x,axis=1))"
      ]
    },
    {
      "cell_type": "markdown",
      "id": "d4c46002",
      "metadata": {
        "id": "d4c46002"
      },
      "source": [
        "Run the following load command to get the 2-Dim iris dataset. Do the following operations on it."
      ]
    },
    {
      "cell_type": "code",
      "execution_count": null,
      "id": "6d70b524",
      "metadata": {
        "id": "6d70b524",
        "colab": {
          "base_uri": "https://localhost:8080/"
        },
        "outputId": "255c6792-e9ff-484d-df56-79530bc2314c"
      },
      "outputs": [
        {
          "output_type": "stream",
          "name": "stdout",
          "text": [
            "[[5.1 3.5 1.4 0.2]\n",
            " [4.9 3.  1.4 0.2]\n",
            " [4.7 3.2 1.3 0.2]\n",
            " [4.6 3.1 1.5 0.2]\n",
            " [5.  3.6 1.4 0.2]\n",
            " [5.4 3.9 1.7 0.4]\n",
            " [4.6 3.4 1.4 0.3]\n",
            " [5.  3.4 1.5 0.2]\n",
            " [4.4 2.9 1.4 0.2]\n",
            " [4.9 3.1 1.5 0.1]\n",
            " [5.4 3.7 1.5 0.2]\n",
            " [4.8 3.4 1.6 0.2]\n",
            " [4.8 3.  1.4 0.1]\n",
            " [4.3 3.  1.1 0.1]\n",
            " [5.8 4.  1.2 0.2]\n",
            " [5.7 4.4 1.5 0.4]\n",
            " [5.4 3.9 1.3 0.4]\n",
            " [5.1 3.5 1.4 0.3]\n",
            " [5.7 3.8 1.7 0.3]\n",
            " [5.1 3.8 1.5 0.3]\n",
            " [5.4 3.4 1.7 0.2]\n",
            " [5.1 3.7 1.5 0.4]\n",
            " [4.6 3.6 1.  0.2]\n",
            " [5.1 3.3 1.7 0.5]\n",
            " [4.8 3.4 1.9 0.2]\n",
            " [5.  3.  1.6 0.2]\n",
            " [5.  3.4 1.6 0.4]\n",
            " [5.2 3.5 1.5 0.2]\n",
            " [5.2 3.4 1.4 0.2]\n",
            " [4.7 3.2 1.6 0.2]\n",
            " [4.8 3.1 1.6 0.2]\n",
            " [5.4 3.4 1.5 0.4]\n",
            " [5.2 4.1 1.5 0.1]\n",
            " [5.5 4.2 1.4 0.2]\n",
            " [4.9 3.1 1.5 0.1]\n",
            " [5.  3.2 1.2 0.2]\n",
            " [5.5 3.5 1.3 0.2]\n",
            " [4.9 3.1 1.5 0.1]\n",
            " [4.4 3.  1.3 0.2]\n",
            " [5.1 3.4 1.5 0.2]\n",
            " [5.  3.5 1.3 0.3]\n",
            " [4.5 2.3 1.3 0.3]\n",
            " [4.4 3.2 1.3 0.2]\n",
            " [5.  3.5 1.6 0.6]\n",
            " [5.1 3.8 1.9 0.4]\n",
            " [4.8 3.  1.4 0.3]\n",
            " [5.1 3.8 1.6 0.2]\n",
            " [4.6 3.2 1.4 0.2]\n",
            " [5.3 3.7 1.5 0.2]\n",
            " [5.  3.3 1.4 0.2]\n",
            " [7.  3.2 4.7 1.4]\n",
            " [6.4 3.2 4.5 1.5]\n",
            " [6.9 3.1 4.9 1.5]\n",
            " [5.5 2.3 4.  1.3]\n",
            " [6.5 2.8 4.6 1.5]\n",
            " [5.7 2.8 4.5 1.3]\n",
            " [6.3 3.3 4.7 1.6]\n",
            " [4.9 2.4 3.3 1. ]\n",
            " [6.6 2.9 4.6 1.3]\n",
            " [5.2 2.7 3.9 1.4]\n",
            " [5.  2.  3.5 1. ]\n",
            " [5.9 3.  4.2 1.5]\n",
            " [6.  2.2 4.  1. ]\n",
            " [6.1 2.9 4.7 1.4]\n",
            " [5.6 2.9 3.6 1.3]\n",
            " [6.7 3.1 4.4 1.4]\n",
            " [5.6 3.  4.5 1.5]\n",
            " [5.8 2.7 4.1 1. ]\n",
            " [6.2 2.2 4.5 1.5]\n",
            " [5.6 2.5 3.9 1.1]\n",
            " [5.9 3.2 4.8 1.8]\n",
            " [6.1 2.8 4.  1.3]\n",
            " [6.3 2.5 4.9 1.5]\n",
            " [6.1 2.8 4.7 1.2]\n",
            " [6.4 2.9 4.3 1.3]\n",
            " [6.6 3.  4.4 1.4]\n",
            " [6.8 2.8 4.8 1.4]\n",
            " [6.7 3.  5.  1.7]\n",
            " [6.  2.9 4.5 1.5]\n",
            " [5.7 2.6 3.5 1. ]\n",
            " [5.5 2.4 3.8 1.1]\n",
            " [5.5 2.4 3.7 1. ]\n",
            " [5.8 2.7 3.9 1.2]\n",
            " [6.  2.7 5.1 1.6]\n",
            " [5.4 3.  4.5 1.5]\n",
            " [6.  3.4 4.5 1.6]\n",
            " [6.7 3.1 4.7 1.5]\n",
            " [6.3 2.3 4.4 1.3]\n",
            " [5.6 3.  4.1 1.3]\n",
            " [5.5 2.5 4.  1.3]\n",
            " [5.5 2.6 4.4 1.2]\n",
            " [6.1 3.  4.6 1.4]\n",
            " [5.8 2.6 4.  1.2]\n",
            " [5.  2.3 3.3 1. ]\n",
            " [5.6 2.7 4.2 1.3]\n",
            " [5.7 3.  4.2 1.2]\n",
            " [5.7 2.9 4.2 1.3]\n",
            " [6.2 2.9 4.3 1.3]\n",
            " [5.1 2.5 3.  1.1]\n",
            " [5.7 2.8 4.1 1.3]\n",
            " [6.3 3.3 6.  2.5]\n",
            " [5.8 2.7 5.1 1.9]\n",
            " [7.1 3.  5.9 2.1]\n",
            " [6.3 2.9 5.6 1.8]\n",
            " [6.5 3.  5.8 2.2]\n",
            " [7.6 3.  6.6 2.1]\n",
            " [4.9 2.5 4.5 1.7]\n",
            " [7.3 2.9 6.3 1.8]\n",
            " [6.7 2.5 5.8 1.8]\n",
            " [7.2 3.6 6.1 2.5]\n",
            " [6.5 3.2 5.1 2. ]\n",
            " [6.4 2.7 5.3 1.9]\n",
            " [6.8 3.  5.5 2.1]\n",
            " [5.7 2.5 5.  2. ]\n",
            " [5.8 2.8 5.1 2.4]\n",
            " [6.4 3.2 5.3 2.3]\n",
            " [6.5 3.  5.5 1.8]\n",
            " [7.7 3.8 6.7 2.2]\n",
            " [7.7 2.6 6.9 2.3]\n",
            " [6.  2.2 5.  1.5]\n",
            " [6.9 3.2 5.7 2.3]\n",
            " [5.6 2.8 4.9 2. ]\n",
            " [7.7 2.8 6.7 2. ]\n",
            " [6.3 2.7 4.9 1.8]\n",
            " [6.7 3.3 5.7 2.1]\n",
            " [7.2 3.2 6.  1.8]\n",
            " [6.2 2.8 4.8 1.8]\n",
            " [6.1 3.  4.9 1.8]\n",
            " [6.4 2.8 5.6 2.1]\n",
            " [7.2 3.  5.8 1.6]\n",
            " [7.4 2.8 6.1 1.9]\n",
            " [7.9 3.8 6.4 2. ]\n",
            " [6.4 2.8 5.6 2.2]\n",
            " [6.3 2.8 5.1 1.5]\n",
            " [6.1 2.6 5.6 1.4]\n",
            " [7.7 3.  6.1 2.3]\n",
            " [6.3 3.4 5.6 2.4]\n",
            " [6.4 3.1 5.5 1.8]\n",
            " [6.  3.  4.8 1.8]\n",
            " [6.9 3.1 5.4 2.1]\n",
            " [6.7 3.1 5.6 2.4]\n",
            " [6.9 3.1 5.1 2.3]\n",
            " [5.8 2.7 5.1 1.9]\n",
            " [6.8 3.2 5.9 2.3]\n",
            " [6.7 3.3 5.7 2.5]\n",
            " [6.7 3.  5.2 2.3]\n",
            " [6.3 2.5 5.  1.9]\n",
            " [6.5 3.  5.2 2. ]\n",
            " [6.2 3.4 5.4 2.3]\n",
            " [5.9 3.  5.1 1.8]]\n"
          ]
        }
      ],
      "source": [
        "url = 'https://archive.ics.uci.edu/ml/machine-learning-databases/iris/iris.data'\n",
        "iris_2d = np.genfromtxt(url, delimiter=',', dtype='float', usecols=[0,1,2,3])\n",
        "print(iris_2d)"
      ]
    },
    {
      "cell_type": "markdown",
      "id": "09bd05b0",
      "metadata": {
        "id": "09bd05b0"
      },
      "source": [
        "Drop rows that contain a missing value. "
      ]
    },
    {
      "cell_type": "code",
      "execution_count": null,
      "id": "ffd754b3",
      "metadata": {
        "id": "ffd754b3",
        "colab": {
          "base_uri": "https://localhost:8080/"
        },
        "outputId": "9b2b94e2-e36e-4a61-ea40-49ff15abd98d"
      },
      "outputs": [
        {
          "output_type": "execute_result",
          "data": {
            "text/plain": [
              "(array([], dtype=int64), array([], dtype=int64))"
            ]
          },
          "metadata": {},
          "execution_count": 82
        }
      ],
      "source": [
        "x = np.where(iris_2d==np.NaN)\n",
        "x"
      ]
    },
    {
      "cell_type": "markdown",
      "id": "8cbd9fb3",
      "metadata": {
        "id": "8cbd9fb3"
      },
      "source": [
        "Find the correlation between first two columns."
      ]
    },
    {
      "cell_type": "code",
      "execution_count": null,
      "id": "e3ef5a77",
      "metadata": {
        "id": "e3ef5a77",
        "colab": {
          "base_uri": "https://localhost:8080/"
        },
        "outputId": "3f4cd5f2-d0e6-4a2e-f08a-8a10405f84e1"
      },
      "outputs": [
        {
          "output_type": "execute_result",
          "data": {
            "text/plain": [
              "array([[ 1.        , -0.10936925],\n",
              "       [-0.10936925,  1.        ]])"
            ]
          },
          "metadata": {},
          "execution_count": 83
        }
      ],
      "source": [
        "y = np.corrcoef(iris_2d[:,0],iris_2d[:,1])\n",
        "y"
      ]
    },
    {
      "cell_type": "markdown",
      "id": "73965a4a",
      "metadata": {
        "id": "73965a4a"
      },
      "source": [
        "Find the mean,median and standard deviation of column 3."
      ]
    },
    {
      "cell_type": "code",
      "execution_count": null,
      "id": "ab824597",
      "metadata": {
        "id": "ab824597",
        "colab": {
          "base_uri": "https://localhost:8080/"
        },
        "outputId": "fc2ee45b-3939-4120-bdb9-31369bb296a8"
      },
      "outputs": [
        {
          "output_type": "stream",
          "name": "stdout",
          "text": [
            "3.7586666666666693\n",
            "4.35\n",
            "1.7585291834055201\n"
          ]
        }
      ],
      "source": [
        "a = np.mean(iris_2d,axis = 0)\n",
        "print(a[2])\n",
        "b = np.median(iris_2d,axis = 0)\n",
        "print(b[2])\n",
        "c = np.std(iris_2d,axis = 0)\n",
        "print(c[2])\n"
      ]
    },
    {
      "cell_type": "markdown",
      "id": "14e0308e",
      "metadata": {
        "id": "14e0308e"
      },
      "source": [
        "Create a new column for volume in iris_2d, where volume is (pi x petallength x sepal_length^2)/3"
      ]
    },
    {
      "cell_type": "code",
      "execution_count": null,
      "id": "91c944c3",
      "metadata": {
        "id": "91c944c3"
      },
      "outputs": [],
      "source": [
        ""
      ]
    },
    {
      "cell_type": "markdown",
      "id": "b7c1758f",
      "metadata": {
        "id": "b7c1758f"
      },
      "source": [
        "Run the following loaad command and solve the following questions"
      ]
    },
    {
      "cell_type": "code",
      "execution_count": null,
      "id": "b3fae8a7",
      "metadata": {
        "id": "b3fae8a7",
        "colab": {
          "base_uri": "https://localhost:8080/"
        },
        "outputId": "5f116867-fc8a-478d-bb93-74a8911050eb"
      },
      "outputs": [
        {
          "output_type": "stream",
          "name": "stdout",
          "text": [
            "[[b'5.1' b'3.5' b'1.4' b'0.2' b'Iris-setosa']\n",
            " [b'4.9' b'3.0' b'1.4' b'0.2' b'Iris-setosa']\n",
            " [b'4.7' b'3.2' b'1.3' b'0.2' b'Iris-setosa']\n",
            " [b'4.6' b'3.1' b'1.5' b'0.2' b'Iris-setosa']\n",
            " [b'5.0' b'3.6' b'1.4' b'0.2' b'Iris-setosa']\n",
            " [b'5.4' b'3.9' b'1.7' b'0.4' b'Iris-setosa']\n",
            " [b'4.6' b'3.4' b'1.4' b'0.3' b'Iris-setosa']\n",
            " [b'5.0' b'3.4' b'1.5' b'0.2' b'Iris-setosa']\n",
            " [b'4.4' b'2.9' b'1.4' b'0.2' b'Iris-setosa']\n",
            " [b'4.9' b'3.1' b'1.5' b'0.1' b'Iris-setosa']\n",
            " [b'5.4' b'3.7' b'1.5' b'0.2' b'Iris-setosa']\n",
            " [b'4.8' b'3.4' b'1.6' b'0.2' b'Iris-setosa']\n",
            " [b'4.8' b'3.0' b'1.4' b'0.1' b'Iris-setosa']\n",
            " [b'4.3' b'3.0' b'1.1' b'0.1' b'Iris-setosa']\n",
            " [b'5.8' b'4.0' b'1.2' b'0.2' b'Iris-setosa']\n",
            " [b'5.7' b'4.4' b'1.5' b'0.4' b'Iris-setosa']\n",
            " [b'5.4' b'3.9' b'1.3' b'0.4' b'Iris-setosa']\n",
            " [b'5.1' b'3.5' b'1.4' b'0.3' b'Iris-setosa']\n",
            " [b'5.7' b'3.8' b'1.7' b'0.3' b'Iris-setosa']\n",
            " [b'5.1' b'3.8' b'1.5' b'0.3' b'Iris-setosa']\n",
            " [b'5.4' b'3.4' b'1.7' b'0.2' b'Iris-setosa']\n",
            " [b'5.1' b'3.7' b'1.5' b'0.4' b'Iris-setosa']\n",
            " [b'4.6' b'3.6' b'1.0' b'0.2' b'Iris-setosa']\n",
            " [b'5.1' b'3.3' b'1.7' b'0.5' b'Iris-setosa']\n",
            " [b'4.8' b'3.4' b'1.9' b'0.2' b'Iris-setosa']\n",
            " [b'5.0' b'3.0' b'1.6' b'0.2' b'Iris-setosa']\n",
            " [b'5.0' b'3.4' b'1.6' b'0.4' b'Iris-setosa']\n",
            " [b'5.2' b'3.5' b'1.5' b'0.2' b'Iris-setosa']\n",
            " [b'5.2' b'3.4' b'1.4' b'0.2' b'Iris-setosa']\n",
            " [b'4.7' b'3.2' b'1.6' b'0.2' b'Iris-setosa']\n",
            " [b'4.8' b'3.1' b'1.6' b'0.2' b'Iris-setosa']\n",
            " [b'5.4' b'3.4' b'1.5' b'0.4' b'Iris-setosa']\n",
            " [b'5.2' b'4.1' b'1.5' b'0.1' b'Iris-setosa']\n",
            " [b'5.5' b'4.2' b'1.4' b'0.2' b'Iris-setosa']\n",
            " [b'4.9' b'3.1' b'1.5' b'0.1' b'Iris-setosa']\n",
            " [b'5.0' b'3.2' b'1.2' b'0.2' b'Iris-setosa']\n",
            " [b'5.5' b'3.5' b'1.3' b'0.2' b'Iris-setosa']\n",
            " [b'4.9' b'3.1' b'1.5' b'0.1' b'Iris-setosa']\n",
            " [b'4.4' b'3.0' b'1.3' b'0.2' b'Iris-setosa']\n",
            " [b'5.1' b'3.4' b'1.5' b'0.2' b'Iris-setosa']\n",
            " [b'5.0' b'3.5' b'1.3' b'0.3' b'Iris-setosa']\n",
            " [b'4.5' b'2.3' b'1.3' b'0.3' b'Iris-setosa']\n",
            " [b'4.4' b'3.2' b'1.3' b'0.2' b'Iris-setosa']\n",
            " [b'5.0' b'3.5' b'1.6' b'0.6' b'Iris-setosa']\n",
            " [b'5.1' b'3.8' b'1.9' b'0.4' b'Iris-setosa']\n",
            " [b'4.8' b'3.0' b'1.4' b'0.3' b'Iris-setosa']\n",
            " [b'5.1' b'3.8' b'1.6' b'0.2' b'Iris-setosa']\n",
            " [b'4.6' b'3.2' b'1.4' b'0.2' b'Iris-setosa']\n",
            " [b'5.3' b'3.7' b'1.5' b'0.2' b'Iris-setosa']\n",
            " [b'5.0' b'3.3' b'1.4' b'0.2' b'Iris-setosa']\n",
            " [b'7.0' b'3.2' b'4.7' b'1.4' b'Iris-versicolor']\n",
            " [b'6.4' b'3.2' b'4.5' b'1.5' b'Iris-versicolor']\n",
            " [b'6.9' b'3.1' b'4.9' b'1.5' b'Iris-versicolor']\n",
            " [b'5.5' b'2.3' b'4.0' b'1.3' b'Iris-versicolor']\n",
            " [b'6.5' b'2.8' b'4.6' b'1.5' b'Iris-versicolor']\n",
            " [b'5.7' b'2.8' b'4.5' b'1.3' b'Iris-versicolor']\n",
            " [b'6.3' b'3.3' b'4.7' b'1.6' b'Iris-versicolor']\n",
            " [b'4.9' b'2.4' b'3.3' b'1.0' b'Iris-versicolor']\n",
            " [b'6.6' b'2.9' b'4.6' b'1.3' b'Iris-versicolor']\n",
            " [b'5.2' b'2.7' b'3.9' b'1.4' b'Iris-versicolor']\n",
            " [b'5.0' b'2.0' b'3.5' b'1.0' b'Iris-versicolor']\n",
            " [b'5.9' b'3.0' b'4.2' b'1.5' b'Iris-versicolor']\n",
            " [b'6.0' b'2.2' b'4.0' b'1.0' b'Iris-versicolor']\n",
            " [b'6.1' b'2.9' b'4.7' b'1.4' b'Iris-versicolor']\n",
            " [b'5.6' b'2.9' b'3.6' b'1.3' b'Iris-versicolor']\n",
            " [b'6.7' b'3.1' b'4.4' b'1.4' b'Iris-versicolor']\n",
            " [b'5.6' b'3.0' b'4.5' b'1.5' b'Iris-versicolor']\n",
            " [b'5.8' b'2.7' b'4.1' b'1.0' b'Iris-versicolor']\n",
            " [b'6.2' b'2.2' b'4.5' b'1.5' b'Iris-versicolor']\n",
            " [b'5.6' b'2.5' b'3.9' b'1.1' b'Iris-versicolor']\n",
            " [b'5.9' b'3.2' b'4.8' b'1.8' b'Iris-versicolor']\n",
            " [b'6.1' b'2.8' b'4.0' b'1.3' b'Iris-versicolor']\n",
            " [b'6.3' b'2.5' b'4.9' b'1.5' b'Iris-versicolor']\n",
            " [b'6.1' b'2.8' b'4.7' b'1.2' b'Iris-versicolor']\n",
            " [b'6.4' b'2.9' b'4.3' b'1.3' b'Iris-versicolor']\n",
            " [b'6.6' b'3.0' b'4.4' b'1.4' b'Iris-versicolor']\n",
            " [b'6.8' b'2.8' b'4.8' b'1.4' b'Iris-versicolor']\n",
            " [b'6.7' b'3.0' b'5.0' b'1.7' b'Iris-versicolor']\n",
            " [b'6.0' b'2.9' b'4.5' b'1.5' b'Iris-versicolor']\n",
            " [b'5.7' b'2.6' b'3.5' b'1.0' b'Iris-versicolor']\n",
            " [b'5.5' b'2.4' b'3.8' b'1.1' b'Iris-versicolor']\n",
            " [b'5.5' b'2.4' b'3.7' b'1.0' b'Iris-versicolor']\n",
            " [b'5.8' b'2.7' b'3.9' b'1.2' b'Iris-versicolor']\n",
            " [b'6.0' b'2.7' b'5.1' b'1.6' b'Iris-versicolor']\n",
            " [b'5.4' b'3.0' b'4.5' b'1.5' b'Iris-versicolor']\n",
            " [b'6.0' b'3.4' b'4.5' b'1.6' b'Iris-versicolor']\n",
            " [b'6.7' b'3.1' b'4.7' b'1.5' b'Iris-versicolor']\n",
            " [b'6.3' b'2.3' b'4.4' b'1.3' b'Iris-versicolor']\n",
            " [b'5.6' b'3.0' b'4.1' b'1.3' b'Iris-versicolor']\n",
            " [b'5.5' b'2.5' b'4.0' b'1.3' b'Iris-versicolor']\n",
            " [b'5.5' b'2.6' b'4.4' b'1.2' b'Iris-versicolor']\n",
            " [b'6.1' b'3.0' b'4.6' b'1.4' b'Iris-versicolor']\n",
            " [b'5.8' b'2.6' b'4.0' b'1.2' b'Iris-versicolor']\n",
            " [b'5.0' b'2.3' b'3.3' b'1.0' b'Iris-versicolor']\n",
            " [b'5.6' b'2.7' b'4.2' b'1.3' b'Iris-versicolor']\n",
            " [b'5.7' b'3.0' b'4.2' b'1.2' b'Iris-versicolor']\n",
            " [b'5.7' b'2.9' b'4.2' b'1.3' b'Iris-versicolor']\n",
            " [b'6.2' b'2.9' b'4.3' b'1.3' b'Iris-versicolor']\n",
            " [b'5.1' b'2.5' b'3.0' b'1.1' b'Iris-versicolor']\n",
            " [b'5.7' b'2.8' b'4.1' b'1.3' b'Iris-versicolor']\n",
            " [b'6.3' b'3.3' b'6.0' b'2.5' b'Iris-virginica']\n",
            " [b'5.8' b'2.7' b'5.1' b'1.9' b'Iris-virginica']\n",
            " [b'7.1' b'3.0' b'5.9' b'2.1' b'Iris-virginica']\n",
            " [b'6.3' b'2.9' b'5.6' b'1.8' b'Iris-virginica']\n",
            " [b'6.5' b'3.0' b'5.8' b'2.2' b'Iris-virginica']\n",
            " [b'7.6' b'3.0' b'6.6' b'2.1' b'Iris-virginica']\n",
            " [b'4.9' b'2.5' b'4.5' b'1.7' b'Iris-virginica']\n",
            " [b'7.3' b'2.9' b'6.3' b'1.8' b'Iris-virginica']\n",
            " [b'6.7' b'2.5' b'5.8' b'1.8' b'Iris-virginica']\n",
            " [b'7.2' b'3.6' b'6.1' b'2.5' b'Iris-virginica']\n",
            " [b'6.5' b'3.2' b'5.1' b'2.0' b'Iris-virginica']\n",
            " [b'6.4' b'2.7' b'5.3' b'1.9' b'Iris-virginica']\n",
            " [b'6.8' b'3.0' b'5.5' b'2.1' b'Iris-virginica']\n",
            " [b'5.7' b'2.5' b'5.0' b'2.0' b'Iris-virginica']\n",
            " [b'5.8' b'2.8' b'5.1' b'2.4' b'Iris-virginica']\n",
            " [b'6.4' b'3.2' b'5.3' b'2.3' b'Iris-virginica']\n",
            " [b'6.5' b'3.0' b'5.5' b'1.8' b'Iris-virginica']\n",
            " [b'7.7' b'3.8' b'6.7' b'2.2' b'Iris-virginica']\n",
            " [b'7.7' b'2.6' b'6.9' b'2.3' b'Iris-virginica']\n",
            " [b'6.0' b'2.2' b'5.0' b'1.5' b'Iris-virginica']\n",
            " [b'6.9' b'3.2' b'5.7' b'2.3' b'Iris-virginica']\n",
            " [b'5.6' b'2.8' b'4.9' b'2.0' b'Iris-virginica']\n",
            " [b'7.7' b'2.8' b'6.7' b'2.0' b'Iris-virginica']\n",
            " [b'6.3' b'2.7' b'4.9' b'1.8' b'Iris-virginica']\n",
            " [b'6.7' b'3.3' b'5.7' b'2.1' b'Iris-virginica']\n",
            " [b'7.2' b'3.2' b'6.0' b'1.8' b'Iris-virginica']\n",
            " [b'6.2' b'2.8' b'4.8' b'1.8' b'Iris-virginica']\n",
            " [b'6.1' b'3.0' b'4.9' b'1.8' b'Iris-virginica']\n",
            " [b'6.4' b'2.8' b'5.6' b'2.1' b'Iris-virginica']\n",
            " [b'7.2' b'3.0' b'5.8' b'1.6' b'Iris-virginica']\n",
            " [b'7.4' b'2.8' b'6.1' b'1.9' b'Iris-virginica']\n",
            " [b'7.9' b'3.8' b'6.4' b'2.0' b'Iris-virginica']\n",
            " [b'6.4' b'2.8' b'5.6' b'2.2' b'Iris-virginica']\n",
            " [b'6.3' b'2.8' b'5.1' b'1.5' b'Iris-virginica']\n",
            " [b'6.1' b'2.6' b'5.6' b'1.4' b'Iris-virginica']\n",
            " [b'7.7' b'3.0' b'6.1' b'2.3' b'Iris-virginica']\n",
            " [b'6.3' b'3.4' b'5.6' b'2.4' b'Iris-virginica']\n",
            " [b'6.4' b'3.1' b'5.5' b'1.8' b'Iris-virginica']\n",
            " [b'6.0' b'3.0' b'4.8' b'1.8' b'Iris-virginica']\n",
            " [b'6.9' b'3.1' b'5.4' b'2.1' b'Iris-virginica']\n",
            " [b'6.7' b'3.1' b'5.6' b'2.4' b'Iris-virginica']\n",
            " [b'6.9' b'3.1' b'5.1' b'2.3' b'Iris-virginica']\n",
            " [b'5.8' b'2.7' b'5.1' b'1.9' b'Iris-virginica']\n",
            " [b'6.8' b'3.2' b'5.9' b'2.3' b'Iris-virginica']\n",
            " [b'6.7' b'3.3' b'5.7' b'2.5' b'Iris-virginica']\n",
            " [b'6.7' b'3.0' b'5.2' b'2.3' b'Iris-virginica']\n",
            " [b'6.3' b'2.5' b'5.0' b'1.9' b'Iris-virginica']\n",
            " [b'6.5' b'3.0' b'5.2' b'2.0' b'Iris-virginica']\n",
            " [b'6.2' b'3.4' b'5.4' b'2.3' b'Iris-virginica']\n",
            " [b'5.9' b'3.0' b'5.1' b'1.8' b'Iris-virginica']]\n"
          ]
        }
      ],
      "source": [
        "url = 'https://archive.ics.uci.edu/ml/machine-learning-databases/iris/iris.data'\n",
        "iris = np.genfromtxt(url, delimiter=',', dtype='object')\n",
        "names = ('sepallength', 'sepalwidth', 'petallength', 'petalwidth', 'species')\n",
        "print(iris)"
      ]
    },
    {
      "cell_type": "markdown",
      "id": "4ee21e50",
      "metadata": {
        "id": "4ee21e50"
      },
      "source": [
        "Find the count of unique species."
      ]
    },
    {
      "cell_type": "code",
      "execution_count": null,
      "id": "730ad758",
      "metadata": {
        "id": "730ad758",
        "colab": {
          "base_uri": "https://localhost:8080/"
        },
        "outputId": "a97df866-1d4b-4606-91f7-910bbffb5c59"
      },
      "outputs": [
        {
          "output_type": "execute_result",
          "data": {
            "text/plain": [
              "3"
            ]
          },
          "metadata": {},
          "execution_count": 86
        }
      ],
      "source": [
        "m = np.unique(iris[:,4])\n",
        "m.size"
      ]
    },
    {
      "cell_type": "markdown",
      "id": "6d054b10",
      "metadata": {
        "id": "6d054b10"
      },
      "source": [
        "Bin the petal length (3rd) column of iris_2d to form a text array, such that if petal length is:\n",
        "Less than 3 –> ‘small’\n",
        "3-5 –> ‘medium’\n",
        "‘>=5 –> ‘large’"
      ]
    },
    {
      "cell_type": "code",
      "execution_count": null,
      "id": "5be1b28a",
      "metadata": {
        "scrolled": false,
        "id": "5be1b28a",
        "colab": {
          "base_uri": "https://localhost:8080/"
        },
        "outputId": "2bbe76e0-aadc-4d56-b7b3-6fc5534eae59"
      },
      "outputs": [
        {
          "output_type": "stream",
          "name": "stdout",
          "text": [
            "['small' 'small' 'small' 'small' 'small' 'small' 'small' 'small' 'small'\n",
            " 'small' 'small' 'small' 'small' 'small' 'small' 'small' 'small' 'small'\n",
            " 'small' 'small' 'small' 'small' 'small' 'small' 'small' 'small' 'small'\n",
            " 'small' 'small' 'small' 'small' 'small' 'small' 'small' 'small' 'small'\n",
            " 'small' 'small' 'small' 'small' 'small' 'small' 'small' 'small' 'small'\n",
            " 'small' 'small' 'small' 'small' 'small' 'medium' 'medium' 'medium'\n",
            " 'medium' 'medium' 'medium' 'medium' 'medium' 'medium' 'medium' 'medium'\n",
            " 'medium' 'medium' 'medium' 'medium' 'medium' 'medium' 'medium' 'medium'\n",
            " 'medium' 'medium' 'medium' 'medium' 'medium' 'medium' 'medium' 'medium'\n",
            " 'large' 'medium' 'medium' 'medium' 'medium' 'medium' 'large' 'medium'\n",
            " 'medium' 'medium' 'medium' 'medium' 'medium' 'medium' 'medium' 'medium'\n",
            " 'medium' 'medium' 'medium' 'medium' 'medium' 'medium' 'medium' 'large'\n",
            " 'large' 'large' 'large' 'large' 'large' 'medium' 'large' 'large' 'large'\n",
            " 'large' 'large' 'large' 'large' 'large' 'large' 'large' 'large' 'large'\n",
            " 'large' 'large' 'medium' 'large' 'medium' 'large' 'large' 'medium'\n",
            " 'medium' 'large' 'large' 'large' 'large' 'large' 'large' 'large' 'large'\n",
            " 'large' 'large' 'medium' 'large' 'large' 'large' 'large' 'large' 'large'\n",
            " 'large' 'large' 'large' 'large' 'large']\n"
          ]
        }
      ],
      "source": [
        "x = iris[:,2]\n",
        "x1 = x.astype(float)\n",
        "y = []\n",
        "for length in x1:\n",
        "  if  length <3:\n",
        "    y.append('small')\n",
        "  elif  length >=3 and  (length)  <5:\n",
        "    y.append('medium')\n",
        "  else  :\n",
        "    y.append('large')\n",
        "y = np.array(y)\n",
        "print(y)"
      ]
    },
    {
      "cell_type": "markdown",
      "id": "87b2ddd8",
      "metadata": {
        "id": "87b2ddd8"
      },
      "source": [
        "Find the most frequent value of petal length (3rd column) in iris dataset"
      ]
    },
    {
      "cell_type": "code",
      "execution_count": null,
      "id": "bb79857d",
      "metadata": {
        "id": "bb79857d",
        "colab": {
          "base_uri": "https://localhost:8080/"
        },
        "outputId": "60c56bd6-bdd3-4f83-c43e-84280905654f"
      },
      "outputs": [
        {
          "output_type": "stream",
          "name": "stdout",
          "text": [
            "[1.  1.1 1.2 1.3 1.4 1.5 1.6 1.7 1.9 3.  3.3 3.5 3.6 3.7 3.8 3.9 4.  4.1\n",
            " 4.2 4.3 4.4 4.5 4.6 4.7 4.8 4.9 5.  5.1 5.2 5.3 5.4 5.5 5.6 5.7 5.8 5.9\n",
            " 6.  6.1 6.3 6.4 6.6 6.7 6.9]\n",
            "[ 4  4  3  5  4  7  4  5  4  5  5  6  4  1  2  5  3  4  7  5  7  5  0  7\n",
            "  8  6  6  5  4  6  6  5  5  4  5  2  3  5  3  5  3  3  3  6  8  4  6  4\n",
            "  5  4 23 21 25 16 22 21 23 10 22 15 11 18 16 23 12 20 21 17 21 15 24 16\n",
            " 25 23 19 20 24 26 21 11 14 13 15 27 21 21 23 20 17 16 20 22 16 10 18 18\n",
            " 18 19  9 17 36 27 35 32 34 40 21 38 34 37 27 29 31 26 27 29 31 41 42 26\n",
            " 33 25 41 25 33 36 24 25 32 34 37 39 32 27 32 37 32 31 24 30 32 27 27 35\n",
            " 33 28 26 28 30 27]\n",
            "6.9\n"
          ]
        }
      ],
      "source": [
        "y,z = np.unique(x1, return_inverse = True)\n",
        "print(y)\n",
        "print(z)\n",
        "print(x1[z.argmax()])"
      ]
    },
    {
      "cell_type": "code",
      "source": [
        ""
      ],
      "metadata": {
        "id": "HHu3XEWU_W0K"
      },
      "id": "HHu3XEWU_W0K",
      "execution_count": null,
      "outputs": []
    }
  ],
  "metadata": {
    "kernelspec": {
      "display_name": "Python 3 (ipykernel)",
      "language": "python",
      "name": "python3"
    },
    "language_info": {
      "codemirror_mode": {
        "name": "ipython",
        "version": 3
      },
      "file_extension": ".py",
      "mimetype": "text/x-python",
      "name": "python",
      "nbconvert_exporter": "python",
      "pygments_lexer": "ipython3",
      "version": "3.8.10"
    },
    "colab": {
      "name": "Copy of ML_Assignment_1_NumPy.ipynb",
      "provenance": [],
      "collapsed_sections": [],
      "include_colab_link": true
    }
  },
  "nbformat": 4,
  "nbformat_minor": 5
}